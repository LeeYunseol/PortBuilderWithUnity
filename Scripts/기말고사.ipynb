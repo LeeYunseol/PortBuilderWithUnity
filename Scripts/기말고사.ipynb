{
  "nbformat": 4,
  "nbformat_minor": 0,
  "metadata": {
    "colab": {
      "name": "기말고사.ipynb",
      "private_outputs": true,
      "provenance": [],
      "collapsed_sections": [],
      "authorship_tag": "ABX9TyODQ8yS6ysvDi2pAfmFDVfW",
      "include_colab_link": true
    },
    "kernelspec": {
      "name": "python3",
      "display_name": "Python 3"
    },
    "language_info": {
      "name": "python"
    }
  },
  "cells": [
    {
      "cell_type": "markdown",
      "metadata": {
        "id": "view-in-github",
        "colab_type": "text"
      },
      "source": [
        "<a href=\"https://colab.research.google.com/github/LeeYunseol/FirstCommit/blob/main/%EA%B8%B0%EB%A7%90%EA%B3%A0%EC%82%AC.ipynb\" target=\"_parent\"><img src=\"https://colab.research.google.com/assets/colab-badge.svg\" alt=\"Open In Colab\"/></a>"
      ]
    },
    {
      "cell_type": "markdown",
      "source": [
        "# 문제 1번"
      ],
      "metadata": {
        "id": "GNS9raf-CJPC"
      }
    },
    {
      "cell_type": "markdown",
      "source": [
        "문제 1-1번"
      ],
      "metadata": {
        "id": "Ywxb4dGoDUax"
      }
    },
    {
      "cell_type": "code",
      "execution_count": null,
      "metadata": {
        "id": "_JXIEZem9mch"
      },
      "outputs": [],
      "source": [
        "import pandas as pd\n",
        "\n",
        "df = pd.read_csv('/content/goods.csv')\n",
        "df_g = df.groupby('원산지').min([['수량', '단가', '금액']])\n",
        "# 안해줘도 되지만 혹시 이 부분까지 내림차순 정렬로 할 경우의 코드도 적었습니다.\n",
        "df_sort = df_g.sort_values(by=['금액'], ascending = False)\n",
        "df_sort"
      ]
    },
    {
      "cell_type": "code",
      "source": [
        "df_g"
      ],
      "metadata": {
        "id": "TM24XtigH0Wl"
      },
      "execution_count": null,
      "outputs": []
    },
    {
      "cell_type": "markdown",
      "source": [
        "문제 1-2번"
      ],
      "metadata": {
        "id": "eIa96xR2DX-R"
      }
    },
    {
      "cell_type": "code",
      "source": [
        "df_sort = df.sort_values(by=['금액'], ascending = False)\n",
        "df_sort"
      ],
      "metadata": {
        "id": "yPpbVccbDZjY"
      },
      "execution_count": null,
      "outputs": []
    },
    {
      "cell_type": "markdown",
      "source": [
        "# 문제 2번"
      ],
      "metadata": {
        "id": "6TFeYu8qC1KA"
      }
    },
    {
      "cell_type": "code",
      "source": [
        "# 한글 깨짐 현상 해결 \n",
        "%config InlineBackend.figure_format = 'retina'\n",
        "!apt -qq -y install fonts-nanum"
      ],
      "metadata": {
        "id": "EAO9wj76E-Zf"
      },
      "execution_count": null,
      "outputs": []
    },
    {
      "cell_type": "code",
      "source": [
        "import matplotlib.pyplot as plt\n",
        "import matplotlib as mpl\n",
        "import matplotlib.font_manager as fm\n",
        "\n",
        "fontpath = 'usr/share/fonts/truetype/nanum/NanumBarunGothic.ttf'\n",
        "font = fm.FontProperties(fname = fontpath, size = 9)\n",
        "plt.rc('font', family='NanumBarunGothic')\n",
        "mpl.font_manager._rebuild()"
      ],
      "metadata": {
        "id": "CGCD7Q7IC2SE"
      },
      "execution_count": null,
      "outputs": []
    },
    {
      "cell_type": "markdown",
      "source": [
        ""
      ],
      "metadata": {
        "id": "EibpYkpyC546"
      }
    },
    {
      "cell_type": "code",
      "source": [
        "plt.figure(figsize=(10,3)) # 크기가 명시되지 않아 가장 비슷한 수를 넣었습니다. \n",
        "df_x = df.head(5) # csv 파일을 불러오는 것은 이미 구현했기 때문에 이 곳에 추가하지 않았습니다. \n",
        "df_x['금액'].plot()\n",
        "plt.title('12월 과일 매출수량 분석')\n",
        "plt.xticks(range(5), labels=df['품목'], rotation=90)\n",
        "plt.show()"
      ],
      "metadata": {
        "id": "S1j6j7KOC4gY"
      },
      "execution_count": null,
      "outputs": []
    },
    {
      "cell_type": "markdown",
      "source": [
        "# 문제 3번"
      ],
      "metadata": {
        "id": "15u7SUL7GT3F"
      }
    },
    {
      "cell_type": "code",
      "source": [
        "import cv2\n",
        "from google.colab.patches import cv2_imshow\n",
        "img_path = '/content/exam2.jpg'\n",
        "img = cv2.imread(img_path, cv2.IMREAD_UNCHANGED)\n",
        "cv2_imshow(img)"
      ],
      "metadata": {
        "id": "1vHkAuphFaVG"
      },
      "execution_count": null,
      "outputs": []
    },
    {
      "cell_type": "code",
      "source": [
        "# 배경을 제거하고 간략하게 외곽선만 검출한 이미지 출력 => blur 처리\n",
        "img_blur = cv2.blur(img, (3,3))\n",
        "img_gray = cv2.cvtColor(img_blur, cv2.COLOR_BGR2GRAY)\n",
        "img_edges = cv2.Canny(img_gray, 50, 150, apertureSize = 3)\n",
        "cv2_imshow(img_edges)"
      ],
      "metadata": {
        "id": "h8bdGQ0LHAZc"
      },
      "execution_count": null,
      "outputs": []
    }
  ]
}